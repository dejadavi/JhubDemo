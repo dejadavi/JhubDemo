{
 "cells": [
  {
   "cell_type": "code",
   "execution_count": 301,
   "metadata": {},
   "outputs": [],
   "source": [
    "from pyspark.sql.functions import *\n",
    "from pyspark.sql.types import *\n",
    "import warnings; warnings.simplefilter('ignore')\n",
    "import datetime"
   ]
  },
  {
   "cell_type": "markdown",
   "metadata": {},
   "source": [
    "## Ingest"
   ]
  },
  {
   "cell_type": "markdown",
   "metadata": {},
   "source": [
    "The following script is executed as a simple EMR step. It loads the previous day's data locally to the EMR master node, uploads that data to S3 and the removes the local EMR file.\n",
    "\n",
    "```\n",
    "#!/usr/bin/env bash\n",
    "DATE=$(date +\"%Y-%m-%dT00:00:00.000\" -d \"1 day ago\")\n",
    "wget https://data.cityofchicago.org/resource/ydr8-5enu.json?issue_date=$DATE -O ~/inbound_$DATE.json\n",
    "aws s3 cp inbound_$DATE.json s3://mybucket/raw/inbound_$DATE.json\n",
    "rm ~/inbound_$DATE.json```"
   ]
  },
  {
   "cell_type": "markdown",
   "metadata": {},
   "source": [
    "## Extract"
   ]
  },
  {
   "cell_type": "markdown",
   "metadata": {},
   "source": [
    "To do some high level exploratory analsis, we lazily read files from s3, letting spark\n",
    "infer the schema. 'FAILFAST' ensures if we encounter inconsistent schemas, we fail the read job"
   ]
  },
  {
   "cell_type": "code",
   "execution_count": 235,
   "metadata": {},
   "outputs": [],
   "source": [
    "%%spark -o df\n",
    "\n",
    "#read in our raw dataset\n",
    "df = spark\\\n",
    "    .read\\\n",
    "    .option(\"header\", \"false\")\\\n",
    "    .option('mode', 'FAILFAST')\\\n",
    "    .json(\n",
    "        \"s3://prod-dez/raw/inbound.json\",\n",
    "        multiLine=True\n",
    "    )\\\n",
    "    .withColumn('lattitude', col('location.coordinates')[0])\\\n",
    "    .withColumn('longitude', col('location.coordinates')[1])\\\n",
    "    .drop('location')"
   ]
  },
  {
   "cell_type": "markdown",
   "metadata": {},
   "source": [
    "We can then extract the schema if we wish and use it to validate our metadata"
   ]
  },
  {
   "cell_type": "code",
   "execution_count": 240,
   "metadata": {},
   "outputs": [
    {
     "name": "stdout",
     "output_type": "stream",
     "text": [
      "root\n",
      " |-- application_start_date: string (nullable = true)\n",
      " |-- building_fee_paid: string (nullable = true)\n",
      " |-- building_fee_unpaid: string (nullable = true)\n",
      " |-- building_fee_waived: string (nullable = true)\n",
      " |-- contact_10_city: string (nullable = true)\n",
      " |-- contact_10_name: string (nullable = true)\n",
      " |-- contact_10_state: string (nullable = true)\n",
      " |-- contact_10_type: string (nullable = true)\n",
      " |-- contact_10_zipcode: string (nullable = true)\n",
      " |-- contact_1_city: string (nullable = true)\n",
      " |-- contact_1_name: string (nullable = true)\n",
      " |-- contact_1_state: string (nullable = true)\n",
      " |-- contact_1_type: string (nullable = true)\n",
      " |-- contact_1_zipcode: string (nullable = true)\n",
      " |-- contact_2_city: string (nullable = true)\n",
      " |-- contact_2_name: string (nullable = true)\n",
      " |-- contact_2_state: string (nullable = true)\n",
      " |-- contact_2_type: string (nullable = true)\n",
      " |-- contact_2_zipcode: string (nullable = true)\n",
      " |-- contact_3_city: string (nullable = true)\n",
      " |-- contact_3_name: string (nullable = true)\n",
      " |-- contact_3_state: string (nullable = true)\n",
      " |-- contact_3_type: string (nullable = true)\n",
      " |-- contact_3_zipcode: string (nullable = true)\n",
      " |-- contact_4_city: string (nullable = true)\n",
      " |-- contact_4_name: string (nullable = true)\n",
      " |-- contact_4_state: string (nullable = true)\n",
      " |-- contact_4_type: string (nullable = true)\n",
      " |-- contact_4_zipcode: string (nullable = true)\n",
      " |-- contact_5_city: string (nullable = true)\n",
      " |-- contact_5_name: string (nullable = true)\n",
      " |-- contact_5_state: string (nullable = true)\n",
      " |-- contact_5_type: string (nullable = true)\n",
      " |-- contact_5_zipcode: string (nullable = true)\n",
      " |-- contact_6_city: string (nullable = true)\n",
      " |-- contact_6_name: string (nullable = true)\n",
      " |-- contact_6_state: string (nullable = true)\n",
      " |-- contact_6_type: string (nullable = true)\n",
      " |-- contact_6_zipcode: string (nullable = true)\n",
      " |-- contact_7_city: string (nullable = true)\n",
      " |-- contact_7_name: string (nullable = true)\n",
      " |-- contact_7_state: string (nullable = true)\n",
      " |-- contact_7_type: string (nullable = true)\n",
      " |-- contact_7_zipcode: string (nullable = true)\n",
      " |-- contact_8_city: string (nullable = true)\n",
      " |-- contact_8_name: string (nullable = true)\n",
      " |-- contact_8_state: string (nullable = true)\n",
      " |-- contact_8_type: string (nullable = true)\n",
      " |-- contact_8_zipcode: string (nullable = true)\n",
      " |-- contact_9_city: string (nullable = true)\n",
      " |-- contact_9_name: string (nullable = true)\n",
      " |-- contact_9_state: string (nullable = true)\n",
      " |-- contact_9_type: string (nullable = true)\n",
      " |-- contact_9_zipcode: string (nullable = true)\n",
      " |-- id: string (nullable = true)\n",
      " |-- issue_date: string (nullable = true)\n",
      " |-- latitude: string (nullable = true)\n",
      " |-- longitude: double (nullable = true)\n",
      " |-- other_fee_paid: string (nullable = true)\n",
      " |-- other_fee_unpaid: string (nullable = true)\n",
      " |-- other_fee_waived: string (nullable = true)\n",
      " |-- permit_: string (nullable = true)\n",
      " |-- permit_type: string (nullable = true)\n",
      " |-- pin1: string (nullable = true)\n",
      " |-- pin2: string (nullable = true)\n",
      " |-- pin3: string (nullable = true)\n",
      " |-- pin4: string (nullable = true)\n",
      " |-- pin5: string (nullable = true)\n",
      " |-- pin6: string (nullable = true)\n",
      " |-- processing_time: string (nullable = true)\n",
      " |-- reported_cost: string (nullable = true)\n",
      " |-- review_type: string (nullable = true)\n",
      " |-- street_direction: string (nullable = true)\n",
      " |-- street_name: string (nullable = true)\n",
      " |-- street_number: string (nullable = true)\n",
      " |-- subtotal_paid: string (nullable = true)\n",
      " |-- subtotal_unpaid: string (nullable = true)\n",
      " |-- subtotal_waived: string (nullable = true)\n",
      " |-- suffix: string (nullable = true)\n",
      " |-- total_fee: string (nullable = true)\n",
      " |-- work_description: string (nullable = true)\n",
      " |-- xcoordinate: string (nullable = true)\n",
      " |-- ycoordinate: string (nullable = true)\n",
      " |-- zoning_fee_paid: string (nullable = true)\n",
      " |-- zoning_fee_unpaid: string (nullable = true)\n",
      " |-- zoning_fee_waived: string (nullable = true)\n",
      " |-- lattitude: double (nullable = true)"
     ]
    }
   ],
   "source": [
    "df\\\n",
    ".printSchema()"
   ]
  },
  {
   "cell_type": "markdown",
   "metadata": {},
   "source": [
    "## Profile"
   ]
  },
  {
   "cell_type": "markdown",
   "metadata": {},
   "source": [
    "Using the local sparkmagics allows us to collect our datafram back to the master node to leverage\n",
    "pandas for more fine-grained analysis"
   ]
  },
  {
   "cell_type": "code",
   "execution_count": 215,
   "metadata": {
    "scrolled": true
   },
   "outputs": [
    {
     "data": {
      "application/vnd.jupyter.widget-view+json": {
       "model_id": "d96a86a9f74f43c98954e808019693ca",
       "version_major": 2,
       "version_minor": 0
      },
      "text/plain": [
       "VBox(children=(HBox(children=(HTML(value='Type:'), Button(description='Table', layout=Layout(width='70px'), st…"
      ]
     },
     "metadata": {},
     "output_type": "display_data"
    },
    {
     "data": {
      "application/vnd.jupyter.widget-view+json": {
       "model_id": "1244d175892b4ec68f1083a43e2fcb37",
       "version_major": 2,
       "version_minor": 0
      },
      "text/plain": [
       "Output()"
      ]
     },
     "metadata": {},
     "output_type": "display_data"
    }
   ],
   "source": [
    "%%local\n",
    "df\\\n",
    ".head(10)"
   ]
  },
  {
   "cell_type": "code",
   "execution_count": 296,
   "metadata": {},
   "outputs": [
    {
     "data": {
      "text/plain": [
       "<matplotlib.axes._subplots.AxesSubplot at 0x7fcf35445ac8>"
      ]
     },
     "execution_count": 296,
     "metadata": {},
     "output_type": "execute_result"
    },
    {
     "data": {
      "image/png": "[encoded data removed]",
      "text/plain": [
       "<Figure size 432x288 with 1 Axes>"
      ]
     },
     "metadata": {
      "needs_background": "light"
     },
     "output_type": "display_data"
    }
   ],
   "source": [
    "%matplotlib inline\n",
    "\n",
    "##plotting reqs\n",
    "import numpy as np\n",
    "import seaborn as sns\n",
    "import matplotlib.pyplot as plt\n",
    "from scipy import stats\n",
    "import datetime\n",
    "\n",
    "sns.lineplot(\n",
    "    data=df, \n",
    "    x=\"application_start_date\", \n",
    "    y=\"building_fee_paid\"\n",
    ")"
   ]
  },
  {
   "cell_type": "code",
   "execution_count": 297,
   "metadata": {},
   "outputs": [
    {
     "data": {
      "text/plain": [
       "<matplotlib.axes._subplots.AxesSubplot at 0x7fcf35bbd048>"
      ]
     },
     "execution_count": 297,
     "metadata": {},
     "output_type": "execute_result"
    },
    {
     "data": {
      "image/png": "[encoded data removed]",
      "text/plain": [
       "<Figure size 432x288 with 1 Axes>"
      ]
     },
     "metadata": {},
     "output_type": "display_data"
    }
   ],
   "source": [
    "%matplotlib inline\n",
    "\n",
    "sns.set_style(\"whitegrid\")\n",
    "sns.barplot(x=df.contact_1_state, y=df.building_fee_paid)"
   ]
  },
  {
   "cell_type": "code",
   "execution_count": 298,
   "metadata": {},
   "outputs": [
    {
     "name": "stdout",
     "output_type": "stream",
     "text": [
      "+---------------+----------------------+----------------------+\n",
      "|contact_1_state|min(building_fee_paid)|max(building_fee_paid)|\n",
      "+---------------+----------------------+----------------------+\n",
      "|           null|                    85|                  87.5|\n",
      "|             MI|                  1385|                  1385|\n",
      "|            ILL|                  1450|                  1450|\n",
      "|             IL|                     0|                  99.9|\n",
      "|            IL.|                   155|                    85|\n",
      "|             TX|                    40|                    40|\n",
      "|             FL|                   150|                   150|\n",
      "+---------------+----------------------+----------------------+"
     ]
    }
   ],
   "source": [
    "df\\\n",
    ".groupBy('contact_1_state')\\\n",
    ".agg(min('building_fee_paid'), max('building_fee_paid'))\\\n",
    ".show()"
   ]
  },
  {
   "cell_type": "code",
   "execution_count": 311,
   "metadata": {},
   "outputs": [],
   "source": [
    "today = datetime.datetime.now()\n",
    "\n",
    "df\\\n",
    ".write\\\n",
    ".save(\n",
    "    \"s3://dez-artifacts/prod-dez/demo_data_processed_{date}/\".format(date=today.strftime('%Y-%m-%d')),\n",
    "    'orc'\n",
    ")"
   ]
  },
  {
   "cell_type": "code",
   "execution_count": null,
   "metadata": {},
   "outputs": [],
   "source": []
  }
 ],
 "metadata": {
  "kernelspec": {
   "display_name": "PySpark3",
   "language": "",
   "name": "pyspark3kernel"
  },
  "language_info": {
   "codemirror_mode": {
    "name": "python",
    "version": 3
   },
   "mimetype": "text/x-python",
   "name": "pyspark3",
   "pygments_lexer": "python3"
  }
 },
 "nbformat": 4,
 "nbformat_minor": 2
}
